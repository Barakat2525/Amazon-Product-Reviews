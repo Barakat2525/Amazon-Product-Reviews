{
  "nbformat": 4,
  "nbformat_minor": 0,
  "metadata": {
    "colab": {
      "provenance": []
    },
    "kernelspec": {
      "name": "python3",
      "display_name": "Python 3"
    },
    "language_info": {
      "name": "python"
    }
  },
  "cells": [
    {
      "cell_type": "markdown",
      "source": [
        "![amazon imae.png](data:image/png;base64,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)"
      ],
      "metadata": {
        "id": "6q8Oo1vd5Cbx"
      }
    },
    {
      "cell_type": "markdown",
      "source": [
        "####INTRODUCTION\n",
        "\n",
        "This is an amazon dataset that is in a text format . I want use sentimental analysis for product reviews to get a realworld of Natural Lnaguage Processing(NLP)\n",
        "\n",
        "####AIM AND GOAL\n",
        "The main aim of the analysis is to understand text analysis and Machine Learning sentiment classification\n",
        "\n",
        "The goal is to build a model that can classify each review as positive, Negative and Neutral based on the text context\n",
        "\n"
      ],
      "metadata": {
        "id": "HiKcbPJ366w2"
      }
    },
    {
      "cell_type": "markdown",
      "source": [
        "Importing the important Libraries"
      ],
      "metadata": {
        "id": "76fBPwyQ9QDI"
      }
    },
    {
      "cell_type": "code",
      "source": [
        "import pandas as pd\n",
        "import numpy as np\n",
        "import nltk # Natural language toolkit\n",
        "from nltk.sentiment.vader import SentimentIntensityAnalyzer\n",
        "import re  # Regular expression\n",
        "from textblob import TextBlob  # Used for text\n",
        "from wordcloud import WordCloud  # Fix the import statement\n",
        "import seaborn as sns\n",
        "import matplotlib.pyplot as plt\n",
        "import cufflinks as cf\n",
        "%matplotlib inline\n",
        "from plotly.offline import init_notebook_mode, iplot\n",
        "init_notebook_mode(connected=True)\n",
        "cf.go_offline()\n",
        "\n",
        "import plotly.graph_objs as go\n",
        "from plotly.subplots import make_subplots\n",
        "\n",
        "import warnings\n",
        "warnings.filterwarnings(\"ignore\")\n",
        "warnings.warn(\"This will not show\")\n",
        "\n",
        "pd.set_option('display.max_columns', None)\n"
      ],
      "metadata": {
        "id": "hgBJqMeHFAox",
        "colab": {
          "base_uri": "https://localhost:8080/",
          "height": 17
        },
        "outputId": "415c1c13-9f83-4a8d-c6d2-28886aba1e69"
      },
      "execution_count": 158,
      "outputs": [
        {
          "output_type": "display_data",
          "data": {
            "text/html": [
              "        <script type=\"text/javascript\">\n",
              "        window.PlotlyConfig = {MathJaxConfig: 'local'};\n",
              "        if (window.MathJax && window.MathJax.Hub && window.MathJax.Hub.Config) {window.MathJax.Hub.Config({SVG: {font: \"STIX-Web\"}});}\n",
              "        if (typeof require !== 'undefined') {\n",
              "        require.undef(\"plotly\");\n",
              "        requirejs.config({\n",
              "            paths: {\n",
              "                'plotly': ['https://cdn.plot.ly/plotly-2.24.1.min']\n",
              "            }\n",
              "        });\n",
              "        require(['plotly'], function(Plotly) {\n",
              "            window._Plotly = Plotly;\n",
              "        });\n",
              "        }\n",
              "        </script>\n",
              "        "
            ]
          },
          "metadata": {}
        },
        {
          "output_type": "display_data",
          "data": {
            "text/html": [
              "        <script type=\"text/javascript\">\n",
              "        window.PlotlyConfig = {MathJaxConfig: 'local'};\n",
              "        if (window.MathJax && window.MathJax.Hub && window.MathJax.Hub.Config) {window.MathJax.Hub.Config({SVG: {font: \"STIX-Web\"}});}\n",
              "        if (typeof require !== 'undefined') {\n",
              "        require.undef(\"plotly\");\n",
              "        requirejs.config({\n",
              "            paths: {\n",
              "                'plotly': ['https://cdn.plot.ly/plotly-2.24.1.min']\n",
              "            }\n",
              "        });\n",
              "        require(['plotly'], function(Plotly) {\n",
              "            window._Plotly = Plotly;\n",
              "        });\n",
              "        }\n",
              "        </script>\n",
              "        "
            ]
          },
          "metadata": {}
        }
      ]
    },
    {
      "cell_type": "markdown",
      "source": [
        "># Reading the data"
      ],
      "metadata": {
        "id": "bOmYpWNY9yMV"
      }
    },
    {
      "cell_type": "code",
      "source": [
        "df = pd.read_csv('/content/Amazon Product Review.txt')\n",
        "df"
      ],
      "metadata": {
        "id": "Almi6vWnXYew",
        "colab": {
          "base_uri": "https://localhost:8080/",
          "height": 808
        },
        "outputId": "8ebe0d1f-9f9f-49e0-c995-0f7495e85d3b"
      },
      "execution_count": 159,
      "outputs": [
        {
          "output_type": "execute_result",
          "data": {
            "text/plain": [
              "      marketplace  customer_id       review_id  product_id  product_parent  \\\n",
              "0              US     11555559  R1QXC7AHHJBQ3O  B00IKPX4GY         2693241   \n",
              "1              US     31469372  R175VSRV6ZETOP  B00IKPYKWG         2693241   \n",
              "2              US     26843895  R2HRFF78MWGY19  B00IKPW0UA         2693241   \n",
              "3              US     19844868   R8Q39WPKYVSTX  B00LCHSHMS         2693241   \n",
              "4              US      1189852  R3RL4C8YP2ZCJL  B00IKPZ5V6         2693241   \n",
              "...           ...          ...             ...         ...             ...   \n",
              "30841          US     44834233  R366C7ARIWLN7R  B00IKPW0UA         2693241   \n",
              "30842          US     13376158  R35PL0AOCUXLU9  B00IKPYKWG         2693241   \n",
              "30843          US     40485963  R18ZJVY86AUFII  B00KC6XV58         2693241   \n",
              "30844          US     33485035  R36QVLQXMCZRSJ  B00IKPYKWG         2693241   \n",
              "30845          US      7015231  R1MWVQUDBUADGE  B00IKPYKWG         2693241   \n",
              "\n",
              "                               product_title product_category  star_rating  \\\n",
              "0      Fire HD 7, 7\" HD Display, Wi-Fi, 8 GB               PC            5   \n",
              "1      Fire HD 7, 7\" HD Display, Wi-Fi, 8 GB               PC            3   \n",
              "2      Fire HD 7, 7\" HD Display, Wi-Fi, 8 GB               PC            5   \n",
              "3      Fire HD 7, 7\" HD Display, Wi-Fi, 8 GB               PC            4   \n",
              "4      Fire HD 7, 7\" HD Display, Wi-Fi, 8 GB               PC            5   \n",
              "...                                      ...              ...          ...   \n",
              "30841  Fire HD 7, 7\" HD Display, Wi-Fi, 8 GB               PC            5   \n",
              "30842  Fire HD 7, 7\" HD Display, Wi-Fi, 8 GB               PC            5   \n",
              "30843  Fire HD 7, 7\" HD Display, Wi-Fi, 8 GB               PC            5   \n",
              "30844  Fire HD 7, 7\" HD Display, Wi-Fi, 8 GB               PC            4   \n",
              "30845  Fire HD 7, 7\" HD Display, Wi-Fi, 8 GB               PC            5   \n",
              "\n",
              "       helpful_votes  total_votes vine verified_purchase  \\\n",
              "0                  0            0    N                 Y   \n",
              "1                  0            0    N                 N   \n",
              "2                  0            0    N                 Y   \n",
              "3                  0            0    N                 N   \n",
              "4                  0            0    N                 Y   \n",
              "...              ...          ...  ...               ...   \n",
              "30841           3720         3875    N                 Y   \n",
              "30842           2716         2849    N                 Y   \n",
              "30843           1525         1629    N                 Y   \n",
              "30844            143          163    N                 Y   \n",
              "30845              2           10    N                 N   \n",
              "\n",
              "                                         review_headline  \\\n",
              "0                                             Five Stars   \n",
              "1      Lots of ads Slow processing speed Occasionally...   \n",
              "2                                Well thought out device   \n",
              "3      Not all apps/games we were looking forward to ...   \n",
              "4                                             Five Stars   \n",
              "...                                                  ...   \n",
              "30841  A great upgrade for me from an older Kindle Fire!   \n",
              "30842                               Great Value for $139   \n",
              "30843                   Even grandma has it figured out!   \n",
              "30844                        The Honda Accord of Tablets   \n",
              "30845                                    won't regret it   \n",
              "\n",
              "                                             review_body review_date  \\\n",
              "0                                          Great love it  2015-08-31   \n",
              "1      Lots of ads<br />Slow processing speed<br />Oc...  2015-08-31   \n",
              "2      Excellent unit.  The versatility of this table...  2015-08-31   \n",
              "3      I bought this on Amazon Prime so I ended up bu...  2015-08-31   \n",
              "4      All Amazon products continue to meet my expect...  2015-08-31   \n",
              "...                                                  ...         ...   \n",
              "30841  [[VIDEOID:moP3B6GS5RL8LY]]I purchased the orig...  2014-10-03   \n",
              "30842  I'm writing this review with the benefit of be...  2014-10-03   \n",
              "30843  I purchased this Kindle for my grandma, becaus...  2014-10-03   \n",
              "30844  I bought my tablet Fire HD 7 at Best Buy on th...  2014-10-03   \n",
              "30845  Am impressive piece of hardware for the $. No ...  2014-10-03   \n",
              "\n",
              "       sentiment  \n",
              "0              1  \n",
              "1              0  \n",
              "2              1  \n",
              "3              1  \n",
              "4              1  \n",
              "...          ...  \n",
              "30841          1  \n",
              "30842          1  \n",
              "30843          1  \n",
              "30844          1  \n",
              "30845          1  \n",
              "\n",
              "[30846 rows x 16 columns]"
            ],
            "text/html": [
              "\n",
              "  <div id=\"df-cf02070d-3c02-4865-92d9-90223c636bf8\" class=\"colab-df-container\">\n",
              "    <div>\n",
              "<style scoped>\n",
              "    .dataframe tbody tr th:only-of-type {\n",
              "        vertical-align: middle;\n",
              "    }\n",
              "\n",
              "    .dataframe tbody tr th {\n",
              "        vertical-align: top;\n",
              "    }\n",
              "\n",
              "    .dataframe thead th {\n",
              "        text-align: right;\n",
              "    }\n",
              "</style>\n",
              "<table border=\"1\" class=\"dataframe\">\n",
              "  <thead>\n",
              "    <tr style=\"text-align: right;\">\n",
              "      <th></th>\n",
              "      <th>marketplace</th>\n",
              "      <th>customer_id</th>\n",
              "      <th>review_id</th>\n",
              "      <th>product_id</th>\n",
              "      <th>product_parent</th>\n",
              "      <th>product_title</th>\n",
              "      <th>product_category</th>\n",
              "      <th>star_rating</th>\n",
              "      <th>helpful_votes</th>\n",
              "      <th>total_votes</th>\n",
              "      <th>vine</th>\n",
              "      <th>verified_purchase</th>\n",
              "      <th>review_headline</th>\n",
              "      <th>review_body</th>\n",
              "      <th>review_date</th>\n",
              "      <th>sentiment</th>\n",
              "    </tr>\n",
              "  </thead>\n",
              "  <tbody>\n",
              "    <tr>\n",
              "      <th>0</th>\n",
              "      <td>US</td>\n",
              "      <td>11555559</td>\n",
              "      <td>R1QXC7AHHJBQ3O</td>\n",
              "      <td>B00IKPX4GY</td>\n",
              "      <td>2693241</td>\n",
              "      <td>Fire HD 7, 7\" HD Display, Wi-Fi, 8 GB</td>\n",
              "      <td>PC</td>\n",
              "      <td>5</td>\n",
              "      <td>0</td>\n",
              "      <td>0</td>\n",
              "      <td>N</td>\n",
              "      <td>Y</td>\n",
              "      <td>Five Stars</td>\n",
              "      <td>Great love it</td>\n",
              "      <td>2015-08-31</td>\n",
              "      <td>1</td>\n",
              "    </tr>\n",
              "    <tr>\n",
              "      <th>1</th>\n",
              "      <td>US</td>\n",
              "      <td>31469372</td>\n",
              "      <td>R175VSRV6ZETOP</td>\n",
              "      <td>B00IKPYKWG</td>\n",
              "      <td>2693241</td>\n",
              "      <td>Fire HD 7, 7\" HD Display, Wi-Fi, 8 GB</td>\n",
              "      <td>PC</td>\n",
              "      <td>3</td>\n",
              "      <td>0</td>\n",
              "      <td>0</td>\n",
              "      <td>N</td>\n",
              "      <td>N</td>\n",
              "      <td>Lots of ads Slow processing speed Occasionally...</td>\n",
              "      <td>Lots of ads&lt;br /&gt;Slow processing speed&lt;br /&gt;Oc...</td>\n",
              "      <td>2015-08-31</td>\n",
              "      <td>0</td>\n",
              "    </tr>\n",
              "    <tr>\n",
              "      <th>2</th>\n",
              "      <td>US</td>\n",
              "      <td>26843895</td>\n",
              "      <td>R2HRFF78MWGY19</td>\n",
              "      <td>B00IKPW0UA</td>\n",
              "      <td>2693241</td>\n",
              "      <td>Fire HD 7, 7\" HD Display, Wi-Fi, 8 GB</td>\n",
              "      <td>PC</td>\n",
              "      <td>5</td>\n",
              "      <td>0</td>\n",
              "      <td>0</td>\n",
              "      <td>N</td>\n",
              "      <td>Y</td>\n",
              "      <td>Well thought out device</td>\n",
              "      <td>Excellent unit.  The versatility of this table...</td>\n",
              "      <td>2015-08-31</td>\n",
              "      <td>1</td>\n",
              "    </tr>\n",
              "    <tr>\n",
              "      <th>3</th>\n",
              "      <td>US</td>\n",
              "      <td>19844868</td>\n",
              "      <td>R8Q39WPKYVSTX</td>\n",
              "      <td>B00LCHSHMS</td>\n",
              "      <td>2693241</td>\n",
              "      <td>Fire HD 7, 7\" HD Display, Wi-Fi, 8 GB</td>\n",
              "      <td>PC</td>\n",
              "      <td>4</td>\n",
              "      <td>0</td>\n",
              "      <td>0</td>\n",
              "      <td>N</td>\n",
              "      <td>N</td>\n",
              "      <td>Not all apps/games we were looking forward to ...</td>\n",
              "      <td>I bought this on Amazon Prime so I ended up bu...</td>\n",
              "      <td>2015-08-31</td>\n",
              "      <td>1</td>\n",
              "    </tr>\n",
              "    <tr>\n",
              "      <th>4</th>\n",
              "      <td>US</td>\n",
              "      <td>1189852</td>\n",
              "      <td>R3RL4C8YP2ZCJL</td>\n",
              "      <td>B00IKPZ5V6</td>\n",
              "      <td>2693241</td>\n",
              "      <td>Fire HD 7, 7\" HD Display, Wi-Fi, 8 GB</td>\n",
              "      <td>PC</td>\n",
              "      <td>5</td>\n",
              "      <td>0</td>\n",
              "      <td>0</td>\n",
              "      <td>N</td>\n",
              "      <td>Y</td>\n",
              "      <td>Five Stars</td>\n",
              "      <td>All Amazon products continue to meet my expect...</td>\n",
              "      <td>2015-08-31</td>\n",
              "      <td>1</td>\n",
              "    </tr>\n",
              "    <tr>\n",
              "      <th>...</th>\n",
              "      <td>...</td>\n",
              "      <td>...</td>\n",
              "      <td>...</td>\n",
              "      <td>...</td>\n",
              "      <td>...</td>\n",
              "      <td>...</td>\n",
              "      <td>...</td>\n",
              "      <td>...</td>\n",
              "      <td>...</td>\n",
              "      <td>...</td>\n",
              "      <td>...</td>\n",
              "      <td>...</td>\n",
              "      <td>...</td>\n",
              "      <td>...</td>\n",
              "      <td>...</td>\n",
              "      <td>...</td>\n",
              "    </tr>\n",
              "    <tr>\n",
              "      <th>30841</th>\n",
              "      <td>US</td>\n",
              "      <td>44834233</td>\n",
              "      <td>R366C7ARIWLN7R</td>\n",
              "      <td>B00IKPW0UA</td>\n",
              "      <td>2693241</td>\n",
              "      <td>Fire HD 7, 7\" HD Display, Wi-Fi, 8 GB</td>\n",
              "      <td>PC</td>\n",
              "      <td>5</td>\n",
              "      <td>3720</td>\n",
              "      <td>3875</td>\n",
              "      <td>N</td>\n",
              "      <td>Y</td>\n",
              "      <td>A great upgrade for me from an older Kindle Fire!</td>\n",
              "      <td>[[VIDEOID:moP3B6GS5RL8LY]]I purchased the orig...</td>\n",
              "      <td>2014-10-03</td>\n",
              "      <td>1</td>\n",
              "    </tr>\n",
              "    <tr>\n",
              "      <th>30842</th>\n",
              "      <td>US</td>\n",
              "      <td>13376158</td>\n",
              "      <td>R35PL0AOCUXLU9</td>\n",
              "      <td>B00IKPYKWG</td>\n",
              "      <td>2693241</td>\n",
              "      <td>Fire HD 7, 7\" HD Display, Wi-Fi, 8 GB</td>\n",
              "      <td>PC</td>\n",
              "      <td>5</td>\n",
              "      <td>2716</td>\n",
              "      <td>2849</td>\n",
              "      <td>N</td>\n",
              "      <td>Y</td>\n",
              "      <td>Great Value for $139</td>\n",
              "      <td>I'm writing this review with the benefit of be...</td>\n",
              "      <td>2014-10-03</td>\n",
              "      <td>1</td>\n",
              "    </tr>\n",
              "    <tr>\n",
              "      <th>30843</th>\n",
              "      <td>US</td>\n",
              "      <td>40485963</td>\n",
              "      <td>R18ZJVY86AUFII</td>\n",
              "      <td>B00KC6XV58</td>\n",
              "      <td>2693241</td>\n",
              "      <td>Fire HD 7, 7\" HD Display, Wi-Fi, 8 GB</td>\n",
              "      <td>PC</td>\n",
              "      <td>5</td>\n",
              "      <td>1525</td>\n",
              "      <td>1629</td>\n",
              "      <td>N</td>\n",
              "      <td>Y</td>\n",
              "      <td>Even grandma has it figured out!</td>\n",
              "      <td>I purchased this Kindle for my grandma, becaus...</td>\n",
              "      <td>2014-10-03</td>\n",
              "      <td>1</td>\n",
              "    </tr>\n",
              "    <tr>\n",
              "      <th>30844</th>\n",
              "      <td>US</td>\n",
              "      <td>33485035</td>\n",
              "      <td>R36QVLQXMCZRSJ</td>\n",
              "      <td>B00IKPYKWG</td>\n",
              "      <td>2693241</td>\n",
              "      <td>Fire HD 7, 7\" HD Display, Wi-Fi, 8 GB</td>\n",
              "      <td>PC</td>\n",
              "      <td>4</td>\n",
              "      <td>143</td>\n",
              "      <td>163</td>\n",
              "      <td>N</td>\n",
              "      <td>Y</td>\n",
              "      <td>The Honda Accord of Tablets</td>\n",
              "      <td>I bought my tablet Fire HD 7 at Best Buy on th...</td>\n",
              "      <td>2014-10-03</td>\n",
              "      <td>1</td>\n",
              "    </tr>\n",
              "    <tr>\n",
              "      <th>30845</th>\n",
              "      <td>US</td>\n",
              "      <td>7015231</td>\n",
              "      <td>R1MWVQUDBUADGE</td>\n",
              "      <td>B00IKPYKWG</td>\n",
              "      <td>2693241</td>\n",
              "      <td>Fire HD 7, 7\" HD Display, Wi-Fi, 8 GB</td>\n",
              "      <td>PC</td>\n",
              "      <td>5</td>\n",
              "      <td>2</td>\n",
              "      <td>10</td>\n",
              "      <td>N</td>\n",
              "      <td>N</td>\n",
              "      <td>won't regret it</td>\n",
              "      <td>Am impressive piece of hardware for the $. No ...</td>\n",
              "      <td>2014-10-03</td>\n",
              "      <td>1</td>\n",
              "    </tr>\n",
              "  </tbody>\n",
              "</table>\n",
              "<p>30846 rows × 16 columns</p>\n",
              "</div>\n",
              "    <div class=\"colab-df-buttons\">\n",
              "\n",
              "  <div class=\"colab-df-container\">\n",
              "    <button class=\"colab-df-convert\" onclick=\"convertToInteractive('df-cf02070d-3c02-4865-92d9-90223c636bf8')\"\n",
              "            title=\"Convert this dataframe to an interactive table.\"\n",
              "            style=\"display:none;\">\n",
              "\n",
              "  <svg xmlns=\"http://www.w3.org/2000/svg\" height=\"24px\" viewBox=\"0 -960 960 960\">\n",
              "    <path d=\"M120-120v-720h720v720H120Zm60-500h600v-160H180v160Zm220 220h160v-160H400v160Zm0 220h160v-160H400v160ZM180-400h160v-160H180v160Zm440 0h160v-160H620v160ZM180-180h160v-160H180v160Zm440 0h160v-160H620v160Z\"/>\n",
              "  </svg>\n",
              "    </button>\n",
              "\n",
              "  <style>\n",
              "    .colab-df-container {\n",
              "      display:flex;\n",
              "      gap: 12px;\n",
              "    }\n",
              "\n",
              "    .colab-df-convert {\n",
              "      background-color: #E8F0FE;\n",
              "      border: none;\n",
              "      border-radius: 50%;\n",
              "      cursor: pointer;\n",
              "      display: none;\n",
              "      fill: #1967D2;\n",
              "      height: 32px;\n",
              "      padding: 0 0 0 0;\n",
              "      width: 32px;\n",
              "    }\n",
              "\n",
              "    .colab-df-convert:hover {\n",
              "      background-color: #E2EBFA;\n",
              "      box-shadow: 0px 1px 2px rgba(60, 64, 67, 0.3), 0px 1px 3px 1px rgba(60, 64, 67, 0.15);\n",
              "      fill: #174EA6;\n",
              "    }\n",
              "\n",
              "    .colab-df-buttons div {\n",
              "      margin-bottom: 4px;\n",
              "    }\n",
              "\n",
              "    [theme=dark] .colab-df-convert {\n",
              "      background-color: #3B4455;\n",
              "      fill: #D2E3FC;\n",
              "    }\n",
              "\n",
              "    [theme=dark] .colab-df-convert:hover {\n",
              "      background-color: #434B5C;\n",
              "      box-shadow: 0px 1px 3px 1px rgba(0, 0, 0, 0.15);\n",
              "      filter: drop-shadow(0px 1px 2px rgba(0, 0, 0, 0.3));\n",
              "      fill: #FFFFFF;\n",
              "    }\n",
              "  </style>\n",
              "\n",
              "    <script>\n",
              "      const buttonEl =\n",
              "        document.querySelector('#df-cf02070d-3c02-4865-92d9-90223c636bf8 button.colab-df-convert');\n",
              "      buttonEl.style.display =\n",
              "        google.colab.kernel.accessAllowed ? 'block' : 'none';\n",
              "\n",
              "      async function convertToInteractive(key) {\n",
              "        const element = document.querySelector('#df-cf02070d-3c02-4865-92d9-90223c636bf8');\n",
              "        const dataTable =\n",
              "          await google.colab.kernel.invokeFunction('convertToInteractive',\n",
              "                                                    [key], {});\n",
              "        if (!dataTable) return;\n",
              "\n",
              "        const docLinkHtml = 'Like what you see? Visit the ' +\n",
              "          '<a target=\"_blank\" href=https://colab.research.google.com/notebooks/data_table.ipynb>data table notebook</a>'\n",
              "          + ' to learn more about interactive tables.';\n",
              "        element.innerHTML = '';\n",
              "        dataTable['output_type'] = 'display_data';\n",
              "        await google.colab.output.renderOutput(dataTable, element);\n",
              "        const docLink = document.createElement('div');\n",
              "        docLink.innerHTML = docLinkHtml;\n",
              "        element.appendChild(docLink);\n",
              "      }\n",
              "    </script>\n",
              "  </div>\n",
              "\n",
              "\n",
              "<div id=\"df-dff45cf6-8980-499f-8725-ff41b15e0d95\">\n",
              "  <button class=\"colab-df-quickchart\" onclick=\"quickchart('df-dff45cf6-8980-499f-8725-ff41b15e0d95')\"\n",
              "            title=\"Suggest charts\"\n",
              "            style=\"display:none;\">\n",
              "\n",
              "<svg xmlns=\"http://www.w3.org/2000/svg\" height=\"24px\"viewBox=\"0 0 24 24\"\n",
              "     width=\"24px\">\n",
              "    <g>\n",
              "        <path d=\"M19 3H5c-1.1 0-2 .9-2 2v14c0 1.1.9 2 2 2h14c1.1 0 2-.9 2-2V5c0-1.1-.9-2-2-2zM9 17H7v-7h2v7zm4 0h-2V7h2v10zm4 0h-2v-4h2v4z\"/>\n",
              "    </g>\n",
              "</svg>\n",
              "  </button>\n",
              "\n",
              "<style>\n",
              "  .colab-df-quickchart {\n",
              "      --bg-color: #E8F0FE;\n",
              "      --fill-color: #1967D2;\n",
              "      --hover-bg-color: #E2EBFA;\n",
              "      --hover-fill-color: #174EA6;\n",
              "      --disabled-fill-color: #AAA;\n",
              "      --disabled-bg-color: #DDD;\n",
              "  }\n",
              "\n",
              "  [theme=dark] .colab-df-quickchart {\n",
              "      --bg-color: #3B4455;\n",
              "      --fill-color: #D2E3FC;\n",
              "      --hover-bg-color: #434B5C;\n",
              "      --hover-fill-color: #FFFFFF;\n",
              "      --disabled-bg-color: #3B4455;\n",
              "      --disabled-fill-color: #666;\n",
              "  }\n",
              "\n",
              "  .colab-df-quickchart {\n",
              "    background-color: var(--bg-color);\n",
              "    border: none;\n",
              "    border-radius: 50%;\n",
              "    cursor: pointer;\n",
              "    display: none;\n",
              "    fill: var(--fill-color);\n",
              "    height: 32px;\n",
              "    padding: 0;\n",
              "    width: 32px;\n",
              "  }\n",
              "\n",
              "  .colab-df-quickchart:hover {\n",
              "    background-color: var(--hover-bg-color);\n",
              "    box-shadow: 0 1px 2px rgba(60, 64, 67, 0.3), 0 1px 3px 1px rgba(60, 64, 67, 0.15);\n",
              "    fill: var(--button-hover-fill-color);\n",
              "  }\n",
              "\n",
              "  .colab-df-quickchart-complete:disabled,\n",
              "  .colab-df-quickchart-complete:disabled:hover {\n",
              "    background-color: var(--disabled-bg-color);\n",
              "    fill: var(--disabled-fill-color);\n",
              "    box-shadow: none;\n",
              "  }\n",
              "\n",
              "  .colab-df-spinner {\n",
              "    border: 2px solid var(--fill-color);\n",
              "    border-color: transparent;\n",
              "    border-bottom-color: var(--fill-color);\n",
              "    animation:\n",
              "      spin 1s steps(1) infinite;\n",
              "  }\n",
              "\n",
              "  @keyframes spin {\n",
              "    0% {\n",
              "      border-color: transparent;\n",
              "      border-bottom-color: var(--fill-color);\n",
              "      border-left-color: var(--fill-color);\n",
              "    }\n",
              "    20% {\n",
              "      border-color: transparent;\n",
              "      border-left-color: var(--fill-color);\n",
              "      border-top-color: var(--fill-color);\n",
              "    }\n",
              "    30% {\n",
              "      border-color: transparent;\n",
              "      border-left-color: var(--fill-color);\n",
              "      border-top-color: var(--fill-color);\n",
              "      border-right-color: var(--fill-color);\n",
              "    }\n",
              "    40% {\n",
              "      border-color: transparent;\n",
              "      border-right-color: var(--fill-color);\n",
              "      border-top-color: var(--fill-color);\n",
              "    }\n",
              "    60% {\n",
              "      border-color: transparent;\n",
              "      border-right-color: var(--fill-color);\n",
              "    }\n",
              "    80% {\n",
              "      border-color: transparent;\n",
              "      border-right-color: var(--fill-color);\n",
              "      border-bottom-color: var(--fill-color);\n",
              "    }\n",
              "    90% {\n",
              "      border-color: transparent;\n",
              "      border-bottom-color: var(--fill-color);\n",
              "    }\n",
              "  }\n",
              "</style>\n",
              "\n",
              "  <script>\n",
              "    async function quickchart(key) {\n",
              "      const quickchartButtonEl =\n",
              "        document.querySelector('#' + key + ' button');\n",
              "      quickchartButtonEl.disabled = true;  // To prevent multiple clicks.\n",
              "      quickchartButtonEl.classList.add('colab-df-spinner');\n",
              "      try {\n",
              "        const charts = await google.colab.kernel.invokeFunction(\n",
              "            'suggestCharts', [key], {});\n",
              "      } catch (error) {\n",
              "        console.error('Error during call to suggestCharts:', error);\n",
              "      }\n",
              "      quickchartButtonEl.classList.remove('colab-df-spinner');\n",
              "      quickchartButtonEl.classList.add('colab-df-quickchart-complete');\n",
              "    }\n",
              "    (() => {\n",
              "      let quickchartButtonEl =\n",
              "        document.querySelector('#df-dff45cf6-8980-499f-8725-ff41b15e0d95 button');\n",
              "      quickchartButtonEl.style.display =\n",
              "        google.colab.kernel.accessAllowed ? 'block' : 'none';\n",
              "    })();\n",
              "  </script>\n",
              "</div>\n",
              "\n",
              "  <div id=\"id_a4b912fc-d817-4d94-9f8c-06576eb6cf0c\">\n",
              "    <style>\n",
              "      .colab-df-generate {\n",
              "        background-color: #E8F0FE;\n",
              "        border: none;\n",
              "        border-radius: 50%;\n",
              "        cursor: pointer;\n",
              "        display: none;\n",
              "        fill: #1967D2;\n",
              "        height: 32px;\n",
              "        padding: 0 0 0 0;\n",
              "        width: 32px;\n",
              "      }\n",
              "\n",
              "      .colab-df-generate:hover {\n",
              "        background-color: #E2EBFA;\n",
              "        box-shadow: 0px 1px 2px rgba(60, 64, 67, 0.3), 0px 1px 3px 1px rgba(60, 64, 67, 0.15);\n",
              "        fill: #174EA6;\n",
              "      }\n",
              "\n",
              "      [theme=dark] .colab-df-generate {\n",
              "        background-color: #3B4455;\n",
              "        fill: #D2E3FC;\n",
              "      }\n",
              "\n",
              "      [theme=dark] .colab-df-generate:hover {\n",
              "        background-color: #434B5C;\n",
              "        box-shadow: 0px 1px 3px 1px rgba(0, 0, 0, 0.15);\n",
              "        filter: drop-shadow(0px 1px 2px rgba(0, 0, 0, 0.3));\n",
              "        fill: #FFFFFF;\n",
              "      }\n",
              "    </style>\n",
              "    <button class=\"colab-df-generate\" onclick=\"generateWithVariable('df')\"\n",
              "            title=\"Generate code using this dataframe.\"\n",
              "            style=\"display:none;\">\n",
              "\n",
              "  <svg xmlns=\"http://www.w3.org/2000/svg\" height=\"24px\"viewBox=\"0 0 24 24\"\n",
              "       width=\"24px\">\n",
              "    <path d=\"M7,19H8.4L18.45,9,17,7.55,7,17.6ZM5,21V16.75L18.45,3.32a2,2,0,0,1,2.83,0l1.4,1.43a1.91,1.91,0,0,1,.58,1.4,1.91,1.91,0,0,1-.58,1.4L9.25,21ZM18.45,9,17,7.55Zm-12,3A5.31,5.31,0,0,0,4.9,8.1,5.31,5.31,0,0,0,1,6.5,5.31,5.31,0,0,0,4.9,4.9,5.31,5.31,0,0,0,6.5,1,5.31,5.31,0,0,0,8.1,4.9,5.31,5.31,0,0,0,12,6.5,5.46,5.46,0,0,0,6.5,12Z\"/>\n",
              "  </svg>\n",
              "    </button>\n",
              "    <script>\n",
              "      (() => {\n",
              "      const buttonEl =\n",
              "        document.querySelector('#id_a4b912fc-d817-4d94-9f8c-06576eb6cf0c button.colab-df-generate');\n",
              "      buttonEl.style.display =\n",
              "        google.colab.kernel.accessAllowed ? 'block' : 'none';\n",
              "\n",
              "      buttonEl.onclick = () => {\n",
              "        google.colab.notebook.generateWithVariable('df');\n",
              "      }\n",
              "      })();\n",
              "    </script>\n",
              "  </div>\n",
              "\n",
              "    </div>\n",
              "  </div>\n"
            ],
            "application/vnd.google.colaboratory.intrinsic+json": {
              "type": "dataframe",
              "variable_name": "df",
              "repr_error": "'str' object has no attribute 'empty'"
            }
          },
          "metadata": {},
          "execution_count": 159
        }
      ]
    },
    {
      "cell_type": "code",
      "source": [
        "df.info()"
      ],
      "metadata": {
        "id": "HmxOphylT0wS",
        "colab": {
          "base_uri": "https://localhost:8080/"
        },
        "outputId": "8e076a4d-ff68-48af-e63a-da8c14d5ef29"
      },
      "execution_count": 160,
      "outputs": [
        {
          "output_type": "stream",
          "name": "stdout",
          "text": [
            "<class 'pandas.core.frame.DataFrame'>\n",
            "RangeIndex: 30846 entries, 0 to 30845\n",
            "Data columns (total 16 columns):\n",
            " #   Column             Non-Null Count  Dtype \n",
            "---  ------             --------------  ----- \n",
            " 0   marketplace        30846 non-null  object\n",
            " 1   customer_id        30846 non-null  int64 \n",
            " 2   review_id          30846 non-null  object\n",
            " 3   product_id         30846 non-null  object\n",
            " 4   product_parent     30846 non-null  int64 \n",
            " 5   product_title      30846 non-null  object\n",
            " 6   product_category   30846 non-null  object\n",
            " 7   star_rating        30846 non-null  int64 \n",
            " 8   helpful_votes      30846 non-null  int64 \n",
            " 9   total_votes        30846 non-null  int64 \n",
            " 10  vine               30846 non-null  object\n",
            " 11  verified_purchase  30846 non-null  object\n",
            " 12  review_headline    30846 non-null  object\n",
            " 13  review_body        30846 non-null  object\n",
            " 14  review_date        30846 non-null  object\n",
            " 15  sentiment          30846 non-null  int64 \n",
            "dtypes: int64(6), object(10)\n",
            "memory usage: 3.8+ MB\n"
          ]
        }
      ]
    },
    {
      "cell_type": "code",
      "source": [
        "df.shape"
      ],
      "metadata": {
        "id": "WeDa1m-WT1Go",
        "colab": {
          "base_uri": "https://localhost:8080/"
        },
        "outputId": "dba43f18-ffad-470c-dd59-9846557322d7"
      },
      "execution_count": 161,
      "outputs": [
        {
          "output_type": "execute_result",
          "data": {
            "text/plain": [
              "(30846, 16)"
            ]
          },
          "metadata": {},
          "execution_count": 161
        }
      ]
    },
    {
      "cell_type": "code",
      "source": [
        "# to get a ssummary of the data usingg describe\n",
        "df.describe()"
      ],
      "metadata": {
        "id": "ygwUg1i-8u1j",
        "colab": {
          "base_uri": "https://localhost:8080/",
          "height": 300
        },
        "outputId": "cbaa693f-64ce-48f9-8836-9350888fb577"
      },
      "execution_count": 162,
      "outputs": [
        {
          "output_type": "execute_result",
          "data": {
            "text/plain": [
              "        customer_id  product_parent   star_rating  helpful_votes  \\\n",
              "count  3.084600e+04         30846.0  30846.000000    30846.00000   \n",
              "mean   2.471002e+07       2693241.0      4.336154        0.68641   \n",
              "std    1.611172e+07             0.0      1.120716       30.74337   \n",
              "min    1.134600e+04       2693241.0      1.000000        0.00000   \n",
              "25%    1.150637e+07       2693241.0      4.000000        0.00000   \n",
              "50%    2.294025e+07       2693241.0      5.000000        0.00000   \n",
              "75%    4.008874e+07       2693241.0      5.000000        0.00000   \n",
              "max    5.309351e+07       2693241.0      5.000000     3720.00000   \n",
              "\n",
              "        total_votes     sentiment  \n",
              "count  30846.000000  30846.000000  \n",
              "mean       0.895027      0.835343  \n",
              "std       32.356354      0.370876  \n",
              "min        0.000000      0.000000  \n",
              "25%        0.000000      1.000000  \n",
              "50%        0.000000      1.000000  \n",
              "75%        0.000000      1.000000  \n",
              "max     3875.000000      1.000000  "
            ],
            "text/html": [
              "\n",
              "  <div id=\"df-122d3442-9b75-4e5d-a4d1-d5590acd0c1f\" class=\"colab-df-container\">\n",
              "    <div>\n",
              "<style scoped>\n",
              "    .dataframe tbody tr th:only-of-type {\n",
              "        vertical-align: middle;\n",
              "    }\n",
              "\n",
              "    .dataframe tbody tr th {\n",
              "        vertical-align: top;\n",
              "    }\n",
              "\n",
              "    .dataframe thead th {\n",
              "        text-align: right;\n",
              "    }\n",
              "</style>\n",
              "<table border=\"1\" class=\"dataframe\">\n",
              "  <thead>\n",
              "    <tr style=\"text-align: right;\">\n",
              "      <th></th>\n",
              "      <th>customer_id</th>\n",
              "      <th>product_parent</th>\n",
              "      <th>star_rating</th>\n",
              "      <th>helpful_votes</th>\n",
              "      <th>total_votes</th>\n",
              "      <th>sentiment</th>\n",
              "    </tr>\n",
              "  </thead>\n",
              "  <tbody>\n",
              "    <tr>\n",
              "      <th>count</th>\n",
              "      <td>3.084600e+04</td>\n",
              "      <td>30846.0</td>\n",
              "      <td>30846.000000</td>\n",
              "      <td>30846.00000</td>\n",
              "      <td>30846.000000</td>\n",
              "      <td>30846.000000</td>\n",
              "    </tr>\n",
              "    <tr>\n",
              "      <th>mean</th>\n",
              "      <td>2.471002e+07</td>\n",
              "      <td>2693241.0</td>\n",
              "      <td>4.336154</td>\n",
              "      <td>0.68641</td>\n",
              "      <td>0.895027</td>\n",
              "      <td>0.835343</td>\n",
              "    </tr>\n",
              "    <tr>\n",
              "      <th>std</th>\n",
              "      <td>1.611172e+07</td>\n",
              "      <td>0.0</td>\n",
              "      <td>1.120716</td>\n",
              "      <td>30.74337</td>\n",
              "      <td>32.356354</td>\n",
              "      <td>0.370876</td>\n",
              "    </tr>\n",
              "    <tr>\n",
              "      <th>min</th>\n",
              "      <td>1.134600e+04</td>\n",
              "      <td>2693241.0</td>\n",
              "      <td>1.000000</td>\n",
              "      <td>0.00000</td>\n",
              "      <td>0.000000</td>\n",
              "      <td>0.000000</td>\n",
              "    </tr>\n",
              "    <tr>\n",
              "      <th>25%</th>\n",
              "      <td>1.150637e+07</td>\n",
              "      <td>2693241.0</td>\n",
              "      <td>4.000000</td>\n",
              "      <td>0.00000</td>\n",
              "      <td>0.000000</td>\n",
              "      <td>1.000000</td>\n",
              "    </tr>\n",
              "    <tr>\n",
              "      <th>50%</th>\n",
              "      <td>2.294025e+07</td>\n",
              "      <td>2693241.0</td>\n",
              "      <td>5.000000</td>\n",
              "      <td>0.00000</td>\n",
              "      <td>0.000000</td>\n",
              "      <td>1.000000</td>\n",
              "    </tr>\n",
              "    <tr>\n",
              "      <th>75%</th>\n",
              "      <td>4.008874e+07</td>\n",
              "      <td>2693241.0</td>\n",
              "      <td>5.000000</td>\n",
              "      <td>0.00000</td>\n",
              "      <td>0.000000</td>\n",
              "      <td>1.000000</td>\n",
              "    </tr>\n",
              "    <tr>\n",
              "      <th>max</th>\n",
              "      <td>5.309351e+07</td>\n",
              "      <td>2693241.0</td>\n",
              "      <td>5.000000</td>\n",
              "      <td>3720.00000</td>\n",
              "      <td>3875.000000</td>\n",
              "      <td>1.000000</td>\n",
              "    </tr>\n",
              "  </tbody>\n",
              "</table>\n",
              "</div>\n",
              "    <div class=\"colab-df-buttons\">\n",
              "\n",
              "  <div class=\"colab-df-container\">\n",
              "    <button class=\"colab-df-convert\" onclick=\"convertToInteractive('df-122d3442-9b75-4e5d-a4d1-d5590acd0c1f')\"\n",
              "            title=\"Convert this dataframe to an interactive table.\"\n",
              "            style=\"display:none;\">\n",
              "\n",
              "  <svg xmlns=\"http://www.w3.org/2000/svg\" height=\"24px\" viewBox=\"0 -960 960 960\">\n",
              "    <path d=\"M120-120v-720h720v720H120Zm60-500h600v-160H180v160Zm220 220h160v-160H400v160Zm0 220h160v-160H400v160ZM180-400h160v-160H180v160Zm440 0h160v-160H620v160ZM180-180h160v-160H180v160Zm440 0h160v-160H620v160Z\"/>\n",
              "  </svg>\n",
              "    </button>\n",
              "\n",
              "  <style>\n",
              "    .colab-df-container {\n",
              "      display:flex;\n",
              "      gap: 12px;\n",
              "    }\n",
              "\n",
              "    .colab-df-convert {\n",
              "      background-color: #E8F0FE;\n",
              "      border: none;\n",
              "      border-radius: 50%;\n",
              "      cursor: pointer;\n",
              "      display: none;\n",
              "      fill: #1967D2;\n",
              "      height: 32px;\n",
              "      padding: 0 0 0 0;\n",
              "      width: 32px;\n",
              "    }\n",
              "\n",
              "    .colab-df-convert:hover {\n",
              "      background-color: #E2EBFA;\n",
              "      box-shadow: 0px 1px 2px rgba(60, 64, 67, 0.3), 0px 1px 3px 1px rgba(60, 64, 67, 0.15);\n",
              "      fill: #174EA6;\n",
              "    }\n",
              "\n",
              "    .colab-df-buttons div {\n",
              "      margin-bottom: 4px;\n",
              "    }\n",
              "\n",
              "    [theme=dark] .colab-df-convert {\n",
              "      background-color: #3B4455;\n",
              "      fill: #D2E3FC;\n",
              "    }\n",
              "\n",
              "    [theme=dark] .colab-df-convert:hover {\n",
              "      background-color: #434B5C;\n",
              "      box-shadow: 0px 1px 3px 1px rgba(0, 0, 0, 0.15);\n",
              "      filter: drop-shadow(0px 1px 2px rgba(0, 0, 0, 0.3));\n",
              "      fill: #FFFFFF;\n",
              "    }\n",
              "  </style>\n",
              "\n",
              "    <script>\n",
              "      const buttonEl =\n",
              "        document.querySelector('#df-122d3442-9b75-4e5d-a4d1-d5590acd0c1f button.colab-df-convert');\n",
              "      buttonEl.style.display =\n",
              "        google.colab.kernel.accessAllowed ? 'block' : 'none';\n",
              "\n",
              "      async function convertToInteractive(key) {\n",
              "        const element = document.querySelector('#df-122d3442-9b75-4e5d-a4d1-d5590acd0c1f');\n",
              "        const dataTable =\n",
              "          await google.colab.kernel.invokeFunction('convertToInteractive',\n",
              "                                                    [key], {});\n",
              "        if (!dataTable) return;\n",
              "\n",
              "        const docLinkHtml = 'Like what you see? Visit the ' +\n",
              "          '<a target=\"_blank\" href=https://colab.research.google.com/notebooks/data_table.ipynb>data table notebook</a>'\n",
              "          + ' to learn more about interactive tables.';\n",
              "        element.innerHTML = '';\n",
              "        dataTable['output_type'] = 'display_data';\n",
              "        await google.colab.output.renderOutput(dataTable, element);\n",
              "        const docLink = document.createElement('div');\n",
              "        docLink.innerHTML = docLinkHtml;\n",
              "        element.appendChild(docLink);\n",
              "      }\n",
              "    </script>\n",
              "  </div>\n",
              "\n",
              "\n",
              "<div id=\"df-125b04d6-3072-4dfd-b8cd-f9d112edecb5\">\n",
              "  <button class=\"colab-df-quickchart\" onclick=\"quickchart('df-125b04d6-3072-4dfd-b8cd-f9d112edecb5')\"\n",
              "            title=\"Suggest charts\"\n",
              "            style=\"display:none;\">\n",
              "\n",
              "<svg xmlns=\"http://www.w3.org/2000/svg\" height=\"24px\"viewBox=\"0 0 24 24\"\n",
              "     width=\"24px\">\n",
              "    <g>\n",
              "        <path d=\"M19 3H5c-1.1 0-2 .9-2 2v14c0 1.1.9 2 2 2h14c1.1 0 2-.9 2-2V5c0-1.1-.9-2-2-2zM9 17H7v-7h2v7zm4 0h-2V7h2v10zm4 0h-2v-4h2v4z\"/>\n",
              "    </g>\n",
              "</svg>\n",
              "  </button>\n",
              "\n",
              "<style>\n",
              "  .colab-df-quickchart {\n",
              "      --bg-color: #E8F0FE;\n",
              "      --fill-color: #1967D2;\n",
              "      --hover-bg-color: #E2EBFA;\n",
              "      --hover-fill-color: #174EA6;\n",
              "      --disabled-fill-color: #AAA;\n",
              "      --disabled-bg-color: #DDD;\n",
              "  }\n",
              "\n",
              "  [theme=dark] .colab-df-quickchart {\n",
              "      --bg-color: #3B4455;\n",
              "      --fill-color: #D2E3FC;\n",
              "      --hover-bg-color: #434B5C;\n",
              "      --hover-fill-color: #FFFFFF;\n",
              "      --disabled-bg-color: #3B4455;\n",
              "      --disabled-fill-color: #666;\n",
              "  }\n",
              "\n",
              "  .colab-df-quickchart {\n",
              "    background-color: var(--bg-color);\n",
              "    border: none;\n",
              "    border-radius: 50%;\n",
              "    cursor: pointer;\n",
              "    display: none;\n",
              "    fill: var(--fill-color);\n",
              "    height: 32px;\n",
              "    padding: 0;\n",
              "    width: 32px;\n",
              "  }\n",
              "\n",
              "  .colab-df-quickchart:hover {\n",
              "    background-color: var(--hover-bg-color);\n",
              "    box-shadow: 0 1px 2px rgba(60, 64, 67, 0.3), 0 1px 3px 1px rgba(60, 64, 67, 0.15);\n",
              "    fill: var(--button-hover-fill-color);\n",
              "  }\n",
              "\n",
              "  .colab-df-quickchart-complete:disabled,\n",
              "  .colab-df-quickchart-complete:disabled:hover {\n",
              "    background-color: var(--disabled-bg-color);\n",
              "    fill: var(--disabled-fill-color);\n",
              "    box-shadow: none;\n",
              "  }\n",
              "\n",
              "  .colab-df-spinner {\n",
              "    border: 2px solid var(--fill-color);\n",
              "    border-color: transparent;\n",
              "    border-bottom-color: var(--fill-color);\n",
              "    animation:\n",
              "      spin 1s steps(1) infinite;\n",
              "  }\n",
              "\n",
              "  @keyframes spin {\n",
              "    0% {\n",
              "      border-color: transparent;\n",
              "      border-bottom-color: var(--fill-color);\n",
              "      border-left-color: var(--fill-color);\n",
              "    }\n",
              "    20% {\n",
              "      border-color: transparent;\n",
              "      border-left-color: var(--fill-color);\n",
              "      border-top-color: var(--fill-color);\n",
              "    }\n",
              "    30% {\n",
              "      border-color: transparent;\n",
              "      border-left-color: var(--fill-color);\n",
              "      border-top-color: var(--fill-color);\n",
              "      border-right-color: var(--fill-color);\n",
              "    }\n",
              "    40% {\n",
              "      border-color: transparent;\n",
              "      border-right-color: var(--fill-color);\n",
              "      border-top-color: var(--fill-color);\n",
              "    }\n",
              "    60% {\n",
              "      border-color: transparent;\n",
              "      border-right-color: var(--fill-color);\n",
              "    }\n",
              "    80% {\n",
              "      border-color: transparent;\n",
              "      border-right-color: var(--fill-color);\n",
              "      border-bottom-color: var(--fill-color);\n",
              "    }\n",
              "    90% {\n",
              "      border-color: transparent;\n",
              "      border-bottom-color: var(--fill-color);\n",
              "    }\n",
              "  }\n",
              "</style>\n",
              "\n",
              "  <script>\n",
              "    async function quickchart(key) {\n",
              "      const quickchartButtonEl =\n",
              "        document.querySelector('#' + key + ' button');\n",
              "      quickchartButtonEl.disabled = true;  // To prevent multiple clicks.\n",
              "      quickchartButtonEl.classList.add('colab-df-spinner');\n",
              "      try {\n",
              "        const charts = await google.colab.kernel.invokeFunction(\n",
              "            'suggestCharts', [key], {});\n",
              "      } catch (error) {\n",
              "        console.error('Error during call to suggestCharts:', error);\n",
              "      }\n",
              "      quickchartButtonEl.classList.remove('colab-df-spinner');\n",
              "      quickchartButtonEl.classList.add('colab-df-quickchart-complete');\n",
              "    }\n",
              "    (() => {\n",
              "      let quickchartButtonEl =\n",
              "        document.querySelector('#df-125b04d6-3072-4dfd-b8cd-f9d112edecb5 button');\n",
              "      quickchartButtonEl.style.display =\n",
              "        google.colab.kernel.accessAllowed ? 'block' : 'none';\n",
              "    })();\n",
              "  </script>\n",
              "</div>\n",
              "\n",
              "    </div>\n",
              "  </div>\n"
            ],
            "application/vnd.google.colaboratory.intrinsic+json": {
              "type": "dataframe",
              "summary": "{\n  \"name\": \"df\",\n  \"rows\": 8,\n  \"fields\": [\n    {\n      \"column\": \"customer_id\",\n      \"properties\": {\n        \"dtype\": \"number\",\n        \"std\": 18540014.469840243,\n        \"min\": 11346.0,\n        \"max\": 53093510.0,\n        \"num_unique_values\": 8,\n        \"samples\": [\n          24710016.651721455,\n          22940248.0,\n          30846.0\n        ],\n        \"semantic_type\": \"\",\n        \"description\": \"\"\n      }\n    },\n    {\n      \"column\": \"product_parent\",\n      \"properties\": {\n        \"dtype\": \"number\",\n        \"std\": 1239616.27700695,\n        \"min\": 0.0,\n        \"max\": 2693241.0,\n        \"num_unique_values\": 3,\n        \"samples\": [\n          30846.0,\n          2693241.0,\n          0.0\n        ],\n        \"semantic_type\": \"\",\n        \"description\": \"\"\n      }\n    },\n    {\n      \"column\": \"star_rating\",\n      \"properties\": {\n        \"dtype\": \"number\",\n        \"std\": 10904.422247772114,\n        \"min\": 1.0,\n        \"max\": 30846.0,\n        \"num_unique_values\": 6,\n        \"samples\": [\n          30846.0,\n          4.3361537962782855,\n          5.0\n        ],\n        \"semantic_type\": \"\",\n        \"description\": \"\"\n      }\n    },\n    {\n      \"column\": \"helpful_votes\",\n      \"properties\": {\n        \"dtype\": \"number\",\n        \"std\": 10794.789041838645,\n        \"min\": 0.0,\n        \"max\": 30846.0,\n        \"num_unique_values\": 5,\n        \"samples\": [\n          0.6864099072813331,\n          3720.0,\n          30.743369931036955\n        ],\n        \"semantic_type\": \"\",\n        \"description\": \"\"\n      }\n    },\n    {\n      \"column\": \"total_votes\",\n      \"properties\": {\n        \"dtype\": \"number\",\n        \"std\": 10793.583676719903,\n        \"min\": 0.0,\n        \"max\": 30846.0,\n        \"num_unique_values\": 5,\n        \"samples\": [\n          0.8950269078648772,\n          3875.0,\n          32.356353921145654\n        ],\n        \"semantic_type\": \"\",\n        \"description\": \"\"\n      }\n    },\n    {\n      \"column\": \"sentiment\",\n      \"properties\": {\n        \"dtype\": \"number\",\n        \"std\": 10905.444938743436,\n        \"min\": 0.0,\n        \"max\": 30846.0,\n        \"num_unique_values\": 5,\n        \"samples\": [\n          0.8353433184205408,\n          1.0,\n          0.37087641879440636\n        ],\n        \"semantic_type\": \"\",\n        \"description\": \"\"\n      }\n    }\n  ]\n}"
            }
          },
          "metadata": {},
          "execution_count": 162
        }
      ]
    },
    {
      "cell_type": "markdown",
      "source": [
        "There are obvvious outliers in the helpful vvotes and total vote column\n"
      ],
      "metadata": {
        "id": "pjSaVel59OEr"
      }
    },
    {
      "cell_type": "code",
      "source": [
        "#to check for unique values in each columms\n",
        "unique_values_per_column = df.apply(lambda x: x.unique())\n",
        "unique_values_per_column"
      ],
      "metadata": {
        "id": "gQ6ZxuuU-U67",
        "colab": {
          "base_uri": "https://localhost:8080/"
        },
        "outputId": "379e3599-9cf1-4404-f152-1a68d5083ee1"
      },
      "execution_count": 163,
      "outputs": [
        {
          "output_type": "execute_result",
          "data": {
            "text/plain": [
              "marketplace                                                       [US]\n",
              "customer_id          [11555559, 31469372, 26843895, 19844868, 11898...\n",
              "review_id            [R1QXC7AHHJBQ3O, R175VSRV6ZETOP, R2HRFF78MWGY1...\n",
              "product_id           [B00IKPX4GY, B00IKPYKWG, B00IKPW0UA, B00LCHSHM...\n",
              "product_parent                                               [2693241]\n",
              "product_title                  [Fire HD 7, 7\" HD Display, Wi-Fi, 8 GB]\n",
              "product_category                                                  [PC]\n",
              "star_rating                                            [5, 3, 4, 2, 1]\n",
              "helpful_votes        [0, 1, 2, 4, 3, 5, 20, 7, 56, 9, 8, 15, 6, 16,...\n",
              "total_votes          [0, 1, 2, 4, 3, 5, 21, 7, 23, 9, 10, 8, 11, 19...\n",
              "vine                                                               [N]\n",
              "verified_purchase                                               [Y, N]\n",
              "review_headline      [Five Stars, Lots of ads Slow processing speed...\n",
              "review_body          [Great love it, Lots of ads<br />Slow processi...\n",
              "review_date          [2015-08-31, 2015-08-30, 2015-08-29, 2015-08-2...\n",
              "sentiment                                                       [1, 0]\n",
              "dtype: object"
            ]
          },
          "metadata": {},
          "execution_count": 163
        }
      ]
    },
    {
      "cell_type": "markdown",
      "source": [
        "># Data Cleaning\n"
      ],
      "metadata": {
        "id": "qQF26IVR_YlQ"
      }
    },
    {
      "cell_type": "code",
      "source": [
        "#Confirming for missing values\n",
        "df.isnull().sum()"
      ],
      "metadata": {
        "id": "EZTFniP3-VQC",
        "colab": {
          "base_uri": "https://localhost:8080/"
        },
        "outputId": "7049acdf-ad2a-4091-c587-a4002faf6f4f"
      },
      "execution_count": 164,
      "outputs": [
        {
          "output_type": "execute_result",
          "data": {
            "text/plain": [
              "marketplace          0\n",
              "customer_id          0\n",
              "review_id            0\n",
              "product_id           0\n",
              "product_parent       0\n",
              "product_title        0\n",
              "product_category     0\n",
              "star_rating          0\n",
              "helpful_votes        0\n",
              "total_votes          0\n",
              "vine                 0\n",
              "verified_purchase    0\n",
              "review_headline      0\n",
              "review_body          0\n",
              "review_date          0\n",
              "sentiment            0\n",
              "dtype: int64"
            ]
          },
          "metadata": {},
          "execution_count": 164
        }
      ]
    },
    {
      "cell_type": "code",
      "source": [
        "#Checking for duplicate values\n",
        "df.duplicated().sum()"
      ],
      "metadata": {
        "id": "uZ18dhvz-Vls",
        "colab": {
          "base_uri": "https://localhost:8080/"
        },
        "outputId": "1c287532-7cda-4be9-9900-c64b8c4850da"
      },
      "execution_count": 165,
      "outputs": [
        {
          "output_type": "execute_result",
          "data": {
            "text/plain": [
              "0"
            ]
          },
          "metadata": {},
          "execution_count": 165
        }
      ]
    },
    {
      "cell_type": "markdown",
      "source": [
        "># EDA"
      ],
      "metadata": {
        "id": "CrbQtotl5pjZ"
      }
    },
    {
      "cell_type": "markdown",
      "source": [
        "to see the count of star rating and to see how many timme each rating occurs\n"
      ],
      "metadata": {
        "id": "DAlePUPo7KZ-"
      }
    },
    {
      "cell_type": "code",
      "source": [
        "df['star_rating'].value_counts()"
      ],
      "metadata": {
        "id": "ySO2SW1G_7zx",
        "colab": {
          "base_uri": "https://localhost:8080/"
        },
        "outputId": "371f2447-427b-4b9b-fc72-feec57e8138f"
      },
      "execution_count": 166,
      "outputs": [
        {
          "output_type": "execute_result",
          "data": {
            "text/plain": [
              "5    20019\n",
              "4     5748\n",
              "3     2216\n",
              "1     1708\n",
              "2     1155\n",
              "Name: star_rating, dtype: int64"
            ]
          },
          "metadata": {},
          "execution_count": 166
        }
      ]
    },
    {
      "cell_type": "markdown",
      "source": [
        "A bar graph to get more understanding about the rating  "
      ],
      "metadata": {
        "id": "h60O85Qt9zNz"
      }
    },
    {
      "cell_type": "code",
      "source": [
        "plt.figure(figsize=(8, 6))\n",
        "df['star_rating'].value_counts().sort_index().plot(kind='bar', color='yellow')\n",
        "plt.title('Distribution of Star Ratings')\n",
        "plt.xlabel('star_rating')\n",
        "plt.ylabel('Count')\n",
        "plt.show()"
      ],
      "metadata": {
        "id": "YNGhEBTi7I3l",
        "colab": {
          "base_uri": "https://localhost:8080/",
          "height": 559
        },
        "outputId": "059b2286-6347-43ba-dd66-7fc3b1a3a2d6"
      },
      "execution_count": 167,
      "outputs": [
        {
          "output_type": "display_data",
          "data": {
            "text/plain": [
              "<Figure size 800x600 with 1 Axes>"
            ],
            "image/png": "[encoded data removed]"
          },
          "metadata": {}
        }
      ]
    },
    {
      "cell_type": "markdown",
      "source": [
        "The 5 star rating has the highest while the 2 rating has the lowest\n"
      ],
      "metadata": {
        "id": "VavTT56f-cbv"
      }
    },
    {
      "cell_type": "code",
      "source": [
        "#percentage of verified purchaser to non verified using histogram  to do this we change the Y and No to 1 and O\n",
        "\n",
        "df['verified_purchase_numeric'] = df['verified_purchase'].map({'Y': 1, 'N': 0})\n",
        "\n",
        "# Plotting the histogram\n",
        "plt.hist(df['verified_purchase_numeric'], bins=[-0.5, 0.5, 1.5], edgecolor='black', color='skyblue', rwidth=0.8)\n",
        "plt.xticks([0, 1], ['N', 'Y'])\n",
        "plt.xlabel('Verified Purchase')\n",
        "plt.ylabel('Count')\n",
        "plt.title('Verified Purchase Distribution (Histogram)')\n",
        "plt.show()\n"
      ],
      "metadata": {
        "id": "E4xMMQz3nhYw",
        "colab": {
          "base_uri": "https://localhost:8080/",
          "height": 472
        },
        "outputId": "4aab2a86-4002-4588-b2bc-7c8db31f1c51"
      },
      "execution_count": 168,
      "outputs": [
        {
          "output_type": "display_data",
          "data": {
            "text/plain": [
              "<Figure size 640x480 with 1 Axes>"
            ],
            "image/png": "[encoded data removed]"
          },
          "metadata": {}
        }
      ]
    },
    {
      "cell_type": "markdown",
      "source": [
        "This indicates that most of the reviews we got are from verified and were positive revies therefore we have can go ahead analysing"
      ],
      "metadata": {
        "id": "fnXBfS5joS6F"
      }
    },
    {
      "cell_type": "code",
      "source": [
        "df.helpful_votes.count()"
      ],
      "metadata": {
        "id": "Vo7P4Y4kgqoQ",
        "colab": {
          "base_uri": "https://localhost:8080/"
        },
        "outputId": "59bd842c-ff36-4272-d10f-b3c5a07ce70e"
      },
      "execution_count": 169,
      "outputs": [
        {
          "output_type": "execute_result",
          "data": {
            "text/plain": [
              "30846"
            ]
          },
          "metadata": {},
          "execution_count": 169
        }
      ]
    },
    {
      "cell_type": "markdown",
      "source": [
        "###IMPLEMENTING ALGORITHM\n",
        "Will need to convert the reviews to what will be readable by python and clean it from punctuations, there will also be categorised to positive, negative and neutral\n"
      ],
      "metadata": {
        "id": "cJePYCUAeID-"
      }
    },
    {
      "cell_type": "markdown",
      "source": [
        "lets see the first 10 of the reviews"
      ],
      "metadata": {
        "id": "T8ImbZqYeXIW"
      }
    },
    {
      "cell_type": "code",
      "source": [
        "df.review_body.head(10)"
      ],
      "metadata": {
        "id": "4EnOImBd-SYK",
        "colab": {
          "base_uri": "https://localhost:8080/"
        },
        "outputId": "36abb49b-8060-49ac-ba7d-b347b033b48b"
      },
      "execution_count": 170,
      "outputs": [
        {
          "output_type": "execute_result",
          "data": {
            "text/plain": [
              "0                                        Great love it\n",
              "1    Lots of ads<br />Slow processing speed<br />Oc...\n",
              "2    Excellent unit.  The versatility of this table...\n",
              "3    I bought this on Amazon Prime so I ended up bu...\n",
              "4    All Amazon products continue to meet my expect...\n",
              "5                            Good product. I like it 😀\n",
              "6    This kindle works well but the battery goes de...\n",
              "7    I really enjoy my new kindle, it is easy to us...\n",
              "8    It's what I wanted and performs perfectly. Eve...\n",
              "9                      Made well. Like looks and style\n",
              "Name: review_body, dtype: object"
            ]
          },
          "metadata": {},
          "execution_count": 170
        }
      ]
    },
    {
      "cell_type": "code",
      "source": [
        "#A sample of what a review looks like\n",
        "sample_review = df.review_body[1500]\n",
        "\n",
        "sample_review"
      ],
      "metadata": {
        "id": "BhwiiqJw-SqL",
        "colab": {
          "base_uri": "https://localhost:8080/",
          "height": 55
        },
        "outputId": "290dc2b7-c8f0-4093-a41f-e37e749a0e44"
      },
      "execution_count": 171,
      "outputs": [
        {
          "output_type": "execute_result",
          "data": {
            "text/plain": [
              "'Still very functional. Has great graphics. A good chunk of the memory is taken up by the OS. Has the ability to create multiple profiles but each profile sucks up a lot of memory.'"
            ],
            "application/vnd.google.colaboratory.intrinsic+json": {
              "type": "string"
            }
          },
          "metadata": {},
          "execution_count": 171
        }
      ]
    },
    {
      "cell_type": "code",
      "source": [
        "df['review_body'] = df['review_body'].astype(str)\n",
        "\n",
        "# Now 'review_body' is converted to a string\n",
        "print(df['review_body'][1500])\n",
        "\n",
        "#re.sub(r'[^a-zA-Z0-9\\s]','', review_body)"
      ],
      "metadata": {
        "id": "3BoRhlBvZ9Ci",
        "colab": {
          "base_uri": "https://localhost:8080/"
        },
        "outputId": "146495c3-0092-45d6-e043-ff2875e3ebbb"
      },
      "execution_count": 172,
      "outputs": [
        {
          "output_type": "stream",
          "name": "stdout",
          "text": [
            "Still very functional. Has great graphics. A good chunk of the memory is taken up by the OS. Has the ability to create multiple profiles but each profile sucks up a lot of memory.\n"
          ]
        }
      ]
    },
    {
      "cell_type": "code",
      "source": [
        "def clean_text(Review):\n",
        "  Review = str(Review)  #converting the review to string to perform the cleaning\n",
        "  Review = re.sub('\\[.*?\\]','',Review)\n",
        "  Review = re.sub('https?://\\S+|www\\.\\S+', '', Review)\n",
        "  Review = re.sub(r'[^a-zA-Z0-9\\s]','', Review)\n",
        "  Review = re.sub('\\n', '', Review)\n",
        "  Review = re.sub('\\w*\\d\\w*','', Review)\n",
        "  return Review\n",
        "df['review_body'] =  df['review_body']. apply(clean_text)\n",
        "df['review_body'][1500]\n",
        "\n",
        "\n",
        "\n"
      ],
      "metadata": {
        "id": "ShGqpEQvOmvM",
        "colab": {
          "base_uri": "https://localhost:8080/",
          "height": 55
        },
        "outputId": "e8329956-09e2-4ec8-8e7f-511cb63cf0d1"
      },
      "execution_count": 173,
      "outputs": [
        {
          "output_type": "execute_result",
          "data": {
            "text/plain": [
              "'Still very functional Has great graphics A good chunk of the memory is taken up by the OS Has the ability to create multiple profiles but each profile sucks up a lot of memory'"
            ],
            "application/vnd.google.colaboratory.intrinsic+json": {
              "type": "string"
            }
          },
          "metadata": {},
          "execution_count": 173
        }
      ]
    },
    {
      "cell_type": "markdown",
      "source": [
        "\n",
        "Cleaning the text b removing puntuations,Html,Url and converting to lower case to be ML readable   "
      ],
      "metadata": {
        "id": "ta5T8MlUgMsl"
      }
    },
    {
      "cell_type": "code",
      "source": [
        "import re # regular expression\n",
        "\n",
        "def clean_text(Review):\n",
        "    #Review = str(Review).lower()  # converting the review to string to perform the cleaning\n",
        "    Review = re.sub('\\[.*?\\]', '', Review)\n",
        "    Review = re.sub('https?://\\+|www\\.\\+', '', Review)\n",
        "    Review = re.sub(r'[^A-Za-z0-9\\s]', '', Review)  # Include both lowercase and uppercase letters\n",
        "    Review = re.sub('\\n', '', Review)\n",
        "    Review = re.sub('\\w*\\d\\w*', '', Review)\n",
        "    return Review\n",
        "\n",
        "# Assuming df is your DataFrame\n",
        "amazon_review= df['review_body'].apply(clean_text)\n",
        "print(amazon_review)\n"
      ],
      "metadata": {
        "id": "toOw_yOvXu2l",
        "colab": {
          "base_uri": "https://localhost:8080/"
        },
        "outputId": "686fbed1-1fc4-4ff4-a369-cfbe33ba4e16"
      },
      "execution_count": 174,
      "outputs": [
        {
          "output_type": "stream",
          "name": "stdout",
          "text": [
            "0                                            Great love it\n",
            "1        Lots of adsbr Slow processing speedbr Occasion...\n",
            "2        Excellent unit  The versatility of this tablet...\n",
            "3        I bought this on Amazon Prime so I ended up bu...\n",
            "4        All Amazon products continue to meet my expect...\n",
            "                               ...                        \n",
            "30841    I purchased the original Kindle Fire in  and t...\n",
            "30842    Im writing this review with the benefit of bei...\n",
            "30843    I purchased this Kindle for my grandma because...\n",
            "30844    I bought my tablet Fire HD  at Best Buy on the...\n",
            "30845    Am impressive piece of hardware for the  No re...\n",
            "Name: review_body, Length: 30846, dtype: object\n"
          ]
        }
      ]
    },
    {
      "cell_type": "code",
      "source": [
        "df['review_body']"
      ],
      "metadata": {
        "id": "NkNwjzJIiFbg",
        "colab": {
          "base_uri": "https://localhost:8080/"
        },
        "outputId": "d62fad83-323a-41c1-ed59-7181bf138ec5"
      },
      "execution_count": 175,
      "outputs": [
        {
          "output_type": "execute_result",
          "data": {
            "text/plain": [
              "0                                            Great love it\n",
              "1        Lots of adsbr Slow processing speedbr Occasion...\n",
              "2        Excellent unit  The versatility of this tablet...\n",
              "3        I bought this on Amazon Prime so I ended up bu...\n",
              "4        All Amazon products continue to meet my expect...\n",
              "                               ...                        \n",
              "30841    I purchased the original Kindle Fire in  and t...\n",
              "30842    Im writing this review with the benefit of bei...\n",
              "30843    I purchased this Kindle for my grandma because...\n",
              "30844    I bought my tablet Fire HD  at Best Buy on the...\n",
              "30845    Am impressive piece of hardware for the  No re...\n",
              "Name: review_body, Length: 30846, dtype: object"
            ]
          },
          "metadata": {},
          "execution_count": 175
        }
      ]
    },
    {
      "cell_type": "markdown",
      "source": [
        "Will Import Text Vectorisation to interpret the text data into a numerical format that machine learning models could interpret\n"
      ],
      "metadata": {
        "id": "eMY4G9bemcc1"
      }
    },
    {
      "cell_type": "markdown",
      "source": [
        "##Machine Learning Models\n",
        "\n"
      ],
      "metadata": {
        "id": "8_eKcSE99j3x"
      }
    },
    {
      "cell_type": "code",
      "source": [
        "from sklearn.feature_extraction.text import TfidfVectorizer\n",
        "from sklearn.model_selection import train_test_split\n",
        "from sklearn.linear_model import LogisticRegression\n",
        "from sklearn.naive_bayes import MultinomialNB\n",
        "from sklearn.metrics import accuracy_score, confusion_matrix, classification_report\n",
        "from sklearn.preprocessing import LabelEncoder"
      ],
      "metadata": {
        "id": "BgD3uwyJm5rg"
      },
      "execution_count": 187,
      "outputs": []
    },
    {
      "cell_type": "markdown",
      "source": [
        "##Proceed to Building the ML Model\n"
      ],
      "metadata": {
        "id": "WqiGvPU2noqb"
      }
    },
    {
      "cell_type": "code",
      "source": [
        "#Define Features and Target Variable(x,y),then split the data\n",
        "x = amazon_review\n",
        "y = df['sentiment']\n",
        "x_train, x_test, y_train, y_test = train_test_split(x,y, test_size=0.20, random_state=42)\n",
        "\n",
        "#check the size of the data\n",
        "print('size of x_train:', x_train.shape)\n",
        "print('size of y_train:', y_train.shape)\n",
        "print('size of x_test:', x_test.shape)\n",
        "print('size of y_test:', y_test.shape)\n"
      ],
      "metadata": {
        "id": "OcTGFEKDnuw4",
        "colab": {
          "base_uri": "https://localhost:8080/"
        },
        "outputId": "5e0634f9-8dbf-400a-bdc2-c6f99508595a"
      },
      "execution_count": 177,
      "outputs": [
        {
          "output_type": "stream",
          "name": "stdout",
          "text": [
            "size of x_train: (24676,)\n",
            "size of y_train: (24676,)\n",
            "size of x_test: (6170,)\n",
            "size of y_test: (6170,)\n"
          ]
        }
      ]
    },
    {
      "cell_type": "code",
      "source": [
        "# Convert text data to TF-IDF features\n",
        "vectorizer = TfidfVectorizer()\n",
        "x_train_tfidf = vectorizer.fit_transform(x_train)\n",
        "x_test_tfidf = vectorizer.transform(x_test)\n",
        "\n",
        "# Create the model\n",
        "model = LogisticRegression()\n",
        "\n",
        "# Fit the model\n",
        "model.fit(x_train_tfidf, y_train)\n",
        "\n",
        "# Test the model by making some predictions\n",
        "y_pred = model.predict(x_test_tfidf)"
      ],
      "metadata": {
        "id": "6ufVnLvG_Aki"
      },
      "execution_count": 178,
      "outputs": []
    },
    {
      "cell_type": "code",
      "source": [
        "model"
      ],
      "metadata": {
        "id": "UI8L_H0u_Ab3",
        "colab": {
          "base_uri": "https://localhost:8080/",
          "height": 75
        },
        "outputId": "ff699f40-422a-4a5f-d248-1cc67847deab"
      },
      "execution_count": 179,
      "outputs": [
        {
          "output_type": "execute_result",
          "data": {
            "text/plain": [
              "LogisticRegression()"
            ],
            "text/html": [
              "<style>#sk-container-id-2 {color: black;background-color: white;}#sk-container-id-2 pre{padding: 0;}#sk-container-id-2 div.sk-toggleable {background-color: white;}#sk-container-id-2 label.sk-toggleable__label {cursor: pointer;display: block;width: 100%;margin-bottom: 0;padding: 0.3em;box-sizing: border-box;text-align: center;}#sk-container-id-2 label.sk-toggleable__label-arrow:before {content: \"▸\";float: left;margin-right: 0.25em;color: #696969;}#sk-container-id-2 label.sk-toggleable__label-arrow:hover:before {color: black;}#sk-container-id-2 div.sk-estimator:hover label.sk-toggleable__label-arrow:before {color: black;}#sk-container-id-2 div.sk-toggleable__content {max-height: 0;max-width: 0;overflow: hidden;text-align: left;background-color: #f0f8ff;}#sk-container-id-2 div.sk-toggleable__content pre {margin: 0.2em;color: black;border-radius: 0.25em;background-color: #f0f8ff;}#sk-container-id-2 input.sk-toggleable__control:checked~div.sk-toggleable__content {max-height: 200px;max-width: 100%;overflow: auto;}#sk-container-id-2 input.sk-toggleable__control:checked~label.sk-toggleable__label-arrow:before {content: \"▾\";}#sk-container-id-2 div.sk-estimator input.sk-toggleable__control:checked~label.sk-toggleable__label {background-color: #d4ebff;}#sk-container-id-2 div.sk-label input.sk-toggleable__control:checked~label.sk-toggleable__label {background-color: #d4ebff;}#sk-container-id-2 input.sk-hidden--visually {border: 0;clip: rect(1px 1px 1px 1px);clip: rect(1px, 1px, 1px, 1px);height: 1px;margin: -1px;overflow: hidden;padding: 0;position: absolute;width: 1px;}#sk-container-id-2 div.sk-estimator {font-family: monospace;background-color: #f0f8ff;border: 1px dotted black;border-radius: 0.25em;box-sizing: border-box;margin-bottom: 0.5em;}#sk-container-id-2 div.sk-estimator:hover {background-color: #d4ebff;}#sk-container-id-2 div.sk-parallel-item::after {content: \"\";width: 100%;border-bottom: 1px solid gray;flex-grow: 1;}#sk-container-id-2 div.sk-label:hover label.sk-toggleable__label {background-color: #d4ebff;}#sk-container-id-2 div.sk-serial::before {content: \"\";position: absolute;border-left: 1px solid gray;box-sizing: border-box;top: 0;bottom: 0;left: 50%;z-index: 0;}#sk-container-id-2 div.sk-serial {display: flex;flex-direction: column;align-items: center;background-color: white;padding-right: 0.2em;padding-left: 0.2em;position: relative;}#sk-container-id-2 div.sk-item {position: relative;z-index: 1;}#sk-container-id-2 div.sk-parallel {display: flex;align-items: stretch;justify-content: center;background-color: white;position: relative;}#sk-container-id-2 div.sk-item::before, #sk-container-id-2 div.sk-parallel-item::before {content: \"\";position: absolute;border-left: 1px solid gray;box-sizing: border-box;top: 0;bottom: 0;left: 50%;z-index: -1;}#sk-container-id-2 div.sk-parallel-item {display: flex;flex-direction: column;z-index: 1;position: relative;background-color: white;}#sk-container-id-2 div.sk-parallel-item:first-child::after {align-self: flex-end;width: 50%;}#sk-container-id-2 div.sk-parallel-item:last-child::after {align-self: flex-start;width: 50%;}#sk-container-id-2 div.sk-parallel-item:only-child::after {width: 0;}#sk-container-id-2 div.sk-dashed-wrapped {border: 1px dashed gray;margin: 0 0.4em 0.5em 0.4em;box-sizing: border-box;padding-bottom: 0.4em;background-color: white;}#sk-container-id-2 div.sk-label label {font-family: monospace;font-weight: bold;display: inline-block;line-height: 1.2em;}#sk-container-id-2 div.sk-label-container {text-align: center;}#sk-container-id-2 div.sk-container {/* jupyter's `normalize.less` sets `[hidden] { display: none; }` but bootstrap.min.css set `[hidden] { display: none !important; }` so we also need the `!important` here to be able to override the default hidden behavior on the sphinx rendered scikit-learn.org. See: https://github.com/scikit-learn/scikit-learn/issues/21755 */display: inline-block !important;position: relative;}#sk-container-id-2 div.sk-text-repr-fallback {display: none;}</style><div id=\"sk-container-id-2\" class=\"sk-top-container\"><div class=\"sk-text-repr-fallback\"><pre>LogisticRegression()</pre><b>In a Jupyter environment, please rerun this cell to show the HTML representation or trust the notebook. <br />On GitHub, the HTML representation is unable to render, please try loading this page with nbviewer.org.</b></div><div class=\"sk-container\" hidden><div class=\"sk-item\"><div class=\"sk-estimator sk-toggleable\"><input class=\"sk-toggleable__control sk-hidden--visually\" id=\"sk-estimator-id-2\" type=\"checkbox\" checked><label for=\"sk-estimator-id-2\" class=\"sk-toggleable__label sk-toggleable__label-arrow\">LogisticRegression</label><div class=\"sk-toggleable__content\"><pre>LogisticRegression()</pre></div></div></div></div></div>"
            ]
          },
          "metadata": {},
          "execution_count": 179
        }
      ]
    },
    {
      "cell_type": "code",
      "source": [
        "#evaluate the model\n",
        "accuracy = accuracy_score(y_test, y_pred)\n",
        "print(f'Test Accuracy: {accuracy: 2f}%'.format(accuracy*100))\n"
      ],
      "metadata": {
        "id": "03vA2-Z0_AIM",
        "colab": {
          "base_uri": "https://localhost:8080/"
        },
        "outputId": "1f707b69-4f4c-4476-97ab-ccbd64df9582"
      },
      "execution_count": 180,
      "outputs": [
        {
          "output_type": "stream",
          "name": "stdout",
          "text": [
            "Test Accuracy:  0.906807%\n"
          ]
        }
      ]
    },
    {
      "cell_type": "markdown",
      "source": [
        "LabelEncoder is used to convert string labels to numeric values, to  ensure to fit the encoder on y_test to ensure consistent mapping between string labels and numeric values."
      ],
      "metadata": {
        "id": "piQuVMTtRL0i"
      }
    },
    {
      "cell_type": "code",
      "source": [
        "#\n",
        "label_encoder = LabelEncoder()\n",
        "y_test_numeric = label_encoder.fit_transform(y_test)\n",
        "y_pred_numeric = label_encoder.transform(y_pred)\n",
        "\n",
        "# Print confusion matrix\n",
        "print(confusion_matrix(y_test_numeric, y_pred_numeric))\n",
        "print('\\n')\n",
        "\n",
        "# Print classification report\n",
        "print(classification_report(y_test_numeric, y_pred_numeric))"
      ],
      "metadata": {
        "colab": {
          "base_uri": "https://localhost:8080/"
        },
        "id": "MKsvQrclLcAp",
        "outputId": "589a7f91-035d-4020-9b2e-c2905d29d4fb"
      },
      "execution_count": 191,
      "outputs": [
        {
          "output_type": "stream",
          "name": "stdout",
          "text": [
            "[[ 602  416]\n",
            " [ 159 4993]]\n",
            "\n",
            "\n",
            "              precision    recall  f1-score   support\n",
            "\n",
            "           0       0.79      0.59      0.68      1018\n",
            "           1       0.92      0.97      0.95      5152\n",
            "\n",
            "    accuracy                           0.91      6170\n",
            "   macro avg       0.86      0.78      0.81      6170\n",
            "weighted avg       0.90      0.91      0.90      6170\n",
            "\n"
          ]
        }
      ]
    },
    {
      "cell_type": "markdown",
      "source": [
        "###MODEL INTERPRETATION\n",
        "- TEST ACCURACY : A test accuracy of 90.68% means that the model was evaluated on a test dataset and it correctly predicted the target variable at approximately 90.68% of the time. In other words, the Logistic Regression Model used correctly classified the data in the test set at approximately 91%.\n",
        "- CONFUSION MATRIX: [[ 602,  416]\n",
        "                     [ 159, 4993]]\n",
        " This can be interpreted as\n",
        " -True Positive (TP): 4993 instances were correctly predicted as positive.\n",
        "-True Negative (TN): 602 instances were correctly predicted as negative.\n",
        "-False Positive (FP): 416 instances were incorrectly predicted as positive (Type I error).\n",
        "-False Negative (FN): 159 instances were incorrectly predicted as negative (Type II error).                      \n",
        "\n",
        "- CLASSIFICATION REPORT :The table you provided is a classification report, which includes precision, recall, and F1-score for each class (0 and 1) in a binary classification scenario. Here's how to interpret each metric:\n",
        "- Precision: Out of all instances predicted as belonging to a particular class, how many were actually members of that class?\n",
        "\n",
        "    - Precision for class 0: 0.79 (79%) - This means that when the model predicts class 0, it is correct about 79% of the time.\n",
        "    - Precision for class 1: 0.92 (92%) - This means that when the model predicts class 1, it is correct about 92% of the time.\n",
        "\n",
        "- Recall (Sensitivity): Out of all instances that actually belong to a particular class, how many were correctly predicted by the model?\n",
        "    - Recall for class 0: 0.59 (59%) - This means that the model is able to capture 59% of all instances of class 0.\n",
        "    - Recall for class 1: 0.97 (97%) - This means that the model is able to capture 97% of all instances of class 1.\n",
        "\n",
        "- F1-Score: The harmonic mean of precision and recall. It provides a balance between precision and recall.\n",
        "    - F1-score for class 0: 0.68 - A value between 0 and 1, where higher values indicate a better balance between precision and recall.\n",
        "    - F1-score for class 1: 0.95 - A high F1-score indicates a good balance between precision and recall for class 1.\n",
        "\n",
        "- Support: The number of actual occurrences of each class in the test dataset.\n",
        "    - Support for class 0: 1018 instances.\n",
        "    - Support for class 1: 5152 instances.\n",
        "\n",
        "- ACCURACY,MACRO AVG AND WEIGHTED AVG: The accuracy, macro-average, and weighted-average metrics in a classification report provide an overall view of your model's performance across multiple classes. Here's how to interpret each metric:\n",
        "\n",
        "- Accuracy: The proportion of correctly classified instances among all instances.\n",
        "\n",
        "    - Accuracy: 0.91 (91%) - This indicates that your model correctly predicted the target variable for approximately 91% of the instances in your dataset.\n",
        "- Macro-average:Macro-average precision, recall, and F1-score are calculated by averaging the precision, recall, and F1-score for each class without considering class imbalance.\n",
        "    - Macro-average precision: 0.86 (86%) - The average precision across all classes.\n",
        "    - Macro-average recall: 0.78 (78%) - The average recall across all classes.\n",
        "    - Macro-average F1-score: 0.81 - The average F1-score across all classes.\n",
        "\n",
        "- Weighted-average: Weighted-average precision, recall, and F1-score are calculated by taking a weighted average based on the number of instances in each class.\n",
        "    - Weighted-average precision: 0.90 (90%) - The weighted average precision, considering the number of instances in each class.\n",
        "    - Weighted-average recall: 0.91 (91%) - The weighted average recall, considering the number of instances in each class.\n",
        "    - Weighted-average F1-score: 0.90 - The weighted average F1-score, considering the number of instances in each class.    "
      ],
      "metadata": {
        "id": "jmgexhiITdvI"
      }
    },
    {
      "cell_type": "markdown",
      "source": [],
      "metadata": {
        "id": "eqWlf5tXTdd1"
      }
    },
    {
      "cell_type": "markdown",
      "source": [
        "####INSIGHTS\n",
        " ## - HIGH ACCURACY :\n",
        " The model has a high overall accuracy, indicating that it correctly predicts the target variable for approximately 91% of the instances in the dataset.\n",
        "\n",
        " ## **-GOOD PERFORANCE METRICS:**\n",
        "  The precision, recall, and F1-score are also high\n",
        "for both classes, indicating that the model is performing well on both positive and negative\n",
        "reviews.\n",
        "\n",
        "❖ **Confusion Matrix**: The confusion matrix shows that the model has more true positives and\n",
        "true negatives than false positives and false negatives. This indicates that the model is\n",
        "correctly classifying most of the review\n",
        "\n"
      ],
      "metadata": {
        "id": "GEnNzVdhbGWm"
      }
    },
    {
      "cell_type": "markdown",
      "source": [
        "## **RECOMMENDATION**\n",
        " - Keep an eye on overfitting: If there is a significant gap between the training and test accuracy, it may indicate overfitting. It is advisable to regularly assess the model's performance over time to verify its ability to generalize effectively to unseen data.\n",
        " - Utilize acquired insights: The knowledge extracted from the model can serve as a basis for enhancing products and services. For instance, by identifying specific aspects that customers express dissatisfaction with through negative reviews, initiatives can be undertaken to enhance those particular areas.\n",
        " - Account for Business Context: Tailor your approach based on the specific needs of your task. Consider whether minimizing false positives or false negatives aligns better with your objectives. For example, if misclassifying a negative review as positive (false positive) incurs higher costs, prioritize reducing false positives even if it results in an increase in false negatives, and vice versa.\n",
        " - Continuous Refinement: Constructing a machine learning model is an ongoing, iterative endeavor. It is advisable to consistently enhance the model by incorporating new data and feedback.\n",
        "  \n",
        "# In summary, the model performs well in terms of accuracy, but there is room for improvement in the precision and recall of class 0.\n"
      ],
      "metadata": {
        "id": "Cmoyn9rPd-Hr"
      }
    },
    {
      "cell_type": "code",
      "source": [],
      "metadata": {
        "id": "GJO5-OUN_HPV"
      },
      "execution_count": 182,
      "outputs": []
    },
    {
      "cell_type": "code",
      "source": [],
      "metadata": {
        "id": "sIsd1Di0_HFX"
      },
      "execution_count": 182,
      "outputs": []
    }
  ]
}